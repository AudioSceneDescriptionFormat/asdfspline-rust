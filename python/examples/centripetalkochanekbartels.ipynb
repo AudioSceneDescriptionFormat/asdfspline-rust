{
 "cells": [
  {
   "cell_type": "markdown",
   "metadata": {},
   "source": [
    "# Centripetal Kochanek--Bartels Splines"
   ]
  },
  {
   "cell_type": "code",
   "execution_count": null,
   "metadata": {},
   "outputs": [],
   "source": [
    "from asdfspline import CentripetalKochanekBartelsSpline2"
   ]
  },
  {
   "cell_type": "code",
   "execution_count": null,
   "metadata": {},
   "outputs": [],
   "source": [
    "from utilities import plot_2d"
   ]
  },
  {
   "cell_type": "code",
   "execution_count": null,
   "metadata": {},
   "outputs": [],
   "source": [
    "positions = [\n",
    "    [0, 0],\n",
    "    [5, -1],\n",
    "    [3, 2],\n",
    "    [0, 1],\n",
    "]"
   ]
  },
  {
   "cell_type": "code",
   "execution_count": null,
   "metadata": {},
   "outputs": [],
   "source": [
    "s = CentripetalKochanekBartelsSpline2(positions)\n",
    "plot_2d(s)"
   ]
  },
  {
   "cell_type": "code",
   "execution_count": null,
   "metadata": {},
   "outputs": [],
   "source": [
    "s = CentripetalKochanekBartelsSpline2(positions, closed=True)\n",
    "plot_2d(s)"
   ]
  },
  {
   "cell_type": "code",
   "execution_count": null,
   "metadata": {},
   "outputs": [],
   "source": [
    "tcb = [\n",
    "    [-0.8, 0, 0],\n",
    "    [0, 0, 0.7],\n",
    "]\n",
    "s = CentripetalKochanekBartelsSpline2(positions, tcb=tcb)\n",
    "plot_2d(s)"
   ]
  },
  {
   "cell_type": "code",
   "execution_count": null,
   "metadata": {},
   "outputs": [],
   "source": [
    "from asdfspline import CentripetalKochanekBartelsSpline3"
   ]
  },
  {
   "cell_type": "markdown",
   "metadata": {},
   "source": [
    "Use `%matplotlib` to open plots in a separate window:"
   ]
  },
  {
   "cell_type": "code",
   "execution_count": null,
   "metadata": {},
   "outputs": [],
   "source": [
    "#%matplotlib"
   ]
  },
  {
   "cell_type": "code",
   "execution_count": null,
   "metadata": {},
   "outputs": [],
   "source": [
    "from utilities import plot_3d"
   ]
  },
  {
   "cell_type": "code",
   "execution_count": null,
   "metadata": {},
   "outputs": [],
   "source": [
    "positions = [\n",
    "    [0, 0, 0],\n",
    "    [5, -1, 0.5],\n",
    "    [3, 2, 1],\n",
    "    [0, 1, -0.5],\n",
    "]"
   ]
  },
  {
   "cell_type": "code",
   "execution_count": null,
   "metadata": {},
   "outputs": [],
   "source": [
    "s = CentripetalKochanekBartelsSpline3(positions)\n",
    "plot_3d(s)"
   ]
  },
  {
   "cell_type": "code",
   "execution_count": null,
   "metadata": {},
   "outputs": [],
   "source": [
    "tcb = [\n",
    "    [-0.8, 0, 0],\n",
    "    [0, 0, 0.7],\n",
    "]\n",
    "s = CentripetalKochanekBartelsSpline3(positions, tcb=tcb)\n",
    "plot_3d(s)"
   ]
  },
  {
   "cell_type": "code",
   "execution_count": null,
   "metadata": {},
   "outputs": [],
   "source": []
  }
 ],
 "metadata": {
  "kernelspec": {
   "display_name": "Python 3",
   "language": "python",
   "name": "python3"
  },
  "language_info": {
   "codemirror_mode": {
    "name": "ipython",
    "version": 3
   },
   "file_extension": ".py",
   "mimetype": "text/x-python",
   "name": "python",
   "nbconvert_exporter": "python",
   "pygments_lexer": "ipython3",
   "version": "3.7.4"
  }
 },
 "nbformat": 4,
 "nbformat_minor": 4
}
