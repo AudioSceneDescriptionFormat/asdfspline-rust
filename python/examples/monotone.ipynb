{
 "cells": [
  {
   "cell_type": "markdown",
   "metadata": {},
   "source": [
    "# Monotonically increasing Cubic Spline"
   ]
  },
  {
   "cell_type": "code",
   "execution_count": null,
   "metadata": {},
   "outputs": [],
   "source": [
    "from asdfspline import MonotoneCubicSpline"
   ]
  },
  {
   "cell_type": "code",
   "execution_count": null,
   "metadata": {},
   "outputs": [],
   "source": [
    "from utilities import plot_1d"
   ]
  },
  {
   "cell_type": "code",
   "execution_count": null,
   "metadata": {},
   "outputs": [],
   "source": [
    "import matplotlib.pyplot as plt\n",
    "import numpy as np\n",
    "\n",
    "def plot_monotone_spline(s, ax=None, probes=10):\n",
    "    if ax is None:\n",
    "        ax = plt.gca()\n",
    "    plot_1d(s, ax=ax)\n",
    "    values = np.linspace(s.evaluate(s.grid[0]) - 0.5, s.evaluate(s.grid[-1]) + 0.5, probes)\n",
    "    ax.plot(s.get_time(values), values, 'o')"
   ]
  },
  {
   "cell_type": "code",
   "execution_count": null,
   "metadata": {},
   "outputs": [],
   "source": [
    "s = MonotoneCubicSpline(\n",
    "    [0, 1, 3, 4, 7],\n",
    "    grid=[0, 2, 4, 6, 8],\n",
    ")\n",
    "plot_monotone_spline(s)"
   ]
  },
  {
   "cell_type": "code",
   "execution_count": null,
   "metadata": {},
   "outputs": [],
   "source": [
    "s = MonotoneCubicSpline(\n",
    "    [0, 1, 3, 4, 7],\n",
    "    slopes=[1, 0, 1.5, None, 0],\n",
    "    grid=[0, 2, 4, 6, 8],\n",
    ")\n",
    "plot_monotone_spline(s)"
   ]
  },
  {
   "cell_type": "code",
   "execution_count": null,
   "metadata": {},
   "outputs": [],
   "source": [
    "s = MonotoneCubicSpline(\n",
    "    [0, 2, 2, 6, 6],\n",
    "    grid=[0, 2, 4, 6, 8],\n",
    ")\n",
    "plot_monotone_spline(s)"
   ]
  },
  {
   "cell_type": "code",
   "execution_count": null,
   "metadata": {},
   "outputs": [],
   "source": [
    "s.get_time([0, 2, 4, 6])"
   ]
  },
  {
   "cell_type": "code",
   "execution_count": null,
   "metadata": {},
   "outputs": [],
   "source": [
    "s = MonotoneCubicSpline(\n",
    "    [1.1, 7.3],\n",
    "    grid=[0.2, 2.5],\n",
    ")\n",
    "plot_monotone_spline(s)"
   ]
  },
  {
   "cell_type": "code",
   "execution_count": null,
   "metadata": {},
   "outputs": [],
   "source": [
    "s = MonotoneCubicSpline(\n",
    "    [1.1, 7.3],\n",
    "    slopes=[7, None],\n",
    "    grid=[0.2, 2.5],\n",
    ")\n",
    "plot_monotone_spline(s)"
   ]
  },
  {
   "cell_type": "code",
   "execution_count": null,
   "metadata": {},
   "outputs": [],
   "source": []
  }
 ],
 "metadata": {
  "kernelspec": {
   "display_name": "Python 3",
   "language": "python",
   "name": "python3"
  },
  "language_info": {
   "codemirror_mode": {
    "name": "ipython",
    "version": 3
   },
   "file_extension": ".py",
   "mimetype": "text/x-python",
   "name": "python",
   "nbconvert_exporter": "python",
   "pygments_lexer": "ipython3",
   "version": "3.7.4"
  }
 },
 "nbformat": 4,
 "nbformat_minor": 4
}
