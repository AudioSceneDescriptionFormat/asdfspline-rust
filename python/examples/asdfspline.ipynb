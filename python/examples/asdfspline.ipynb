{
 "cells": [
  {
   "cell_type": "markdown",
   "metadata": {},
   "source": [
    "# ASDF Splines"
   ]
  },
  {
   "cell_type": "code",
   "execution_count": null,
   "metadata": {},
   "outputs": [],
   "source": [
    "from asdfspline import AsdfSpline"
   ]
  },
  {
   "cell_type": "code",
   "execution_count": null,
   "metadata": {},
   "outputs": [],
   "source": [
    "from utilities import plot_2d"
   ]
  },
  {
   "cell_type": "code",
   "execution_count": null,
   "metadata": {},
   "outputs": [],
   "source": [
    "import numpy as np\n",
    "import matplotlib.pyplot as plt"
   ]
  },
  {
   "cell_type": "code",
   "execution_count": null,
   "metadata": {},
   "outputs": [],
   "source": [
    "data = [\n",
    "    {'position': (2, 3)},\n",
    "    {'position': (4, 5), 'time': 5},\n",
    "]\n",
    "s = AsdfSpline(data)\n",
    "plot_2d(s)"
   ]
  },
  {
   "cell_type": "code",
   "execution_count": null,
   "metadata": {},
   "outputs": [],
   "source": [
    "data = [\n",
    "    {'position': (2, 3), 'speed': 0},\n",
    "    {'position': (4, 5)},\n",
    "    {'position': 'closed', 'time': 5},\n",
    "]\n",
    "s = AsdfSpline(data)\n",
    "plot_2d(s)"
   ]
  },
  {
   "cell_type": "code",
   "execution_count": null,
   "metadata": {},
   "outputs": [],
   "source": [
    "data = [\n",
    "    {'position': (2, 3)},\n",
    "    {'position': (4, 5)},\n",
    "    {'position': (3, 6)},\n",
    "    {'position': 'closed', 'time': 5}\n",
    "]\n",
    "s = AsdfSpline(data)\n",
    "plot_2d(s)"
   ]
  },
  {
   "cell_type": "markdown",
   "metadata": {},
   "source": [
    "Use `%matplotlib` to open plots in a separate window:"
   ]
  },
  {
   "cell_type": "code",
   "execution_count": null,
   "metadata": {},
   "outputs": [],
   "source": [
    "#%matplotlib"
   ]
  },
  {
   "cell_type": "code",
   "execution_count": null,
   "metadata": {},
   "outputs": [],
   "source": [
    "from asdfspline import AsdfSpline"
   ]
  },
  {
   "cell_type": "code",
   "execution_count": null,
   "metadata": {},
   "outputs": [],
   "source": [
    "from utilities import plot_3d"
   ]
  },
  {
   "cell_type": "code",
   "execution_count": null,
   "metadata": {},
   "outputs": [],
   "source": [
    "data = [\n",
    "    {'position': (0, 0, 0)},\n",
    "    {'position': (3, 0, 0.5)},\n",
    "    {'position': (3, 1, 0)},\n",
    "    {'position': 'closed', 'time': 10},\n",
    "]\n",
    "s = AsdfSpline(data)\n",
    "plot_3d(s)"
   ]
  },
  {
   "cell_type": "code",
   "execution_count": null,
   "metadata": {},
   "outputs": [],
   "source": [
    "data = [\n",
    "    {'position': (0, 0, 0), 'tension': 0.5},\n",
    "    {'position': (3, 0, 0.5), 'tension': 0.5},\n",
    "    {'position': (3, 1, 0), 'tension': 0.5},\n",
    "    {'position': 'closed', 'time': 10},\n",
    "]\n",
    "s = AsdfSpline(data)\n",
    "plot_3d(s)"
   ]
  },
  {
   "cell_type": "code",
   "execution_count": null,
   "metadata": {},
   "outputs": [],
   "source": [
    "data = [\n",
    "    {'position': (-2, -2)},\n",
    "    {'position': (0, 0)},\n",
    "    {'position': (0.2, 1)},\n",
    "    {'position': (-0.2, 1)},\n",
    "    {'position': (0, 0)},\n",
    "    {'position': (1, -0.2)},\n",
    "    {'position': (1, 0.2)},\n",
    "    {'position': (0, 0)},\n",
    "    {'position': (-0.2, -1)},\n",
    "    {'position': (0.2, -1)},\n",
    "    {'position': (0, 0)},\n",
    "    {'position': (-1, 0.2)},\n",
    "    {'position': (-1, -0.2)},\n",
    "    {'position': (0, 0), 'time': 10},\n",
    "\n",
    "]\n",
    "s = AsdfSpline(data)\n",
    "plot_2d(s)"
   ]
  },
  {
   "cell_type": "markdown",
   "metadata": {},
   "source": [
    "Approximating a circle:\n",
    "\n",
    "The tension value has been found empirically,\n",
    "maybe there is also an analytic answer?"
   ]
  },
  {
   "cell_type": "code",
   "execution_count": null,
   "metadata": {},
   "outputs": [],
   "source": [
    "t = -0.655745\n",
    "data = [\n",
    "    {'position': (0, 0), 'tension': t},\n",
    "    {'position': (-1, 1), 'tension': t},\n",
    "    {'position': (0, 2), 'tension': t},\n",
    "    {'position': (1, 1), 'tension': t},\n",
    "    {'position': 'closed', 'time': 6},\n",
    "]\n",
    "s = AsdfSpline(data)\n",
    "plot_2d(s)\n",
    "circle = plt.Circle((0, 1), 1.03, color='grey', fill=False)\n",
    "plt.gca().add_artist(circle);"
   ]
  },
  {
   "cell_type": "markdown",
   "metadata": {},
   "source": [
    "Compare sine function and spline with speed 0 on both ends."
   ]
  },
  {
   "cell_type": "code",
   "execution_count": null,
   "metadata": {},
   "outputs": [],
   "source": [
    "data = [\n",
    "    {'position': (-1, 0), 'speed': 0, 'time': -np.pi/2},\n",
    "    {'position': (1, 0), 'speed': 0, 'time': np.pi/2},\n",
    "]\n",
    "s = AsdfSpline(data)\n",
    "t = np.linspace(-np.pi/2, np.pi/2, 50, endpoint=True)\n",
    "x = s.evaluate(t)[:,0]\n",
    "plt.plot(t, x)\n",
    "plt.plot(t, np.sin(t));"
   ]
  },
  {
   "cell_type": "code",
   "execution_count": null,
   "metadata": {},
   "outputs": [],
   "source": [
    "data = [\n",
    "    {'position': (-1, 0), 'speed': 0, 'time': -np.pi/2},\n",
    "    {'position': (0, 0), 'speed': 1.04, 'time': 0},\n",
    "    {'position': (1, 0), 'speed': 0, 'time': np.pi/2},\n",
    "]\n",
    "s = AsdfSpline(data)\n",
    "x = s.evaluate(t)[:,0]\n",
    "plt.plot(t, x)\n",
    "plt.plot(t, np.sin(t));"
   ]
  }
 ],
 "metadata": {
  "kernelspec": {
   "display_name": "Python 3 (ipykernel)",
   "language": "python",
   "name": "python3"
  },
  "language_info": {
   "codemirror_mode": {
    "name": "ipython",
    "version": 3
   },
   "file_extension": ".py",
   "mimetype": "text/x-python",
   "name": "python",
   "nbconvert_exporter": "python",
   "pygments_lexer": "ipython3",
   "version": "3.11.1"
  }
 },
 "nbformat": 4,
 "nbformat_minor": 4
}
