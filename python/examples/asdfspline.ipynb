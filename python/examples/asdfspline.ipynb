{
 "cells": [
  {
   "cell_type": "markdown",
   "metadata": {},
   "source": [
    "# ASDF Splines"
   ]
  },
  {
   "cell_type": "code",
   "execution_count": null,
   "metadata": {},
   "outputs": [],
   "source": [
    "from asdfspline import AsdfSpline"
   ]
  },
  {
   "cell_type": "code",
   "execution_count": null,
   "metadata": {},
   "outputs": [],
   "source": [
    "from utilities import plot_2d"
   ]
  },
  {
   "cell_type": "code",
   "execution_count": null,
   "metadata": {},
   "outputs": [],
   "source": [
    "data = [\n",
    "    {'position': (2, 3)},\n",
    "    {'position': (4, 5), 'time': 5},\n",
    "]\n",
    "s = AsdfSpline(data)\n",
    "plot_2d(s)"
   ]
  },
  {
   "cell_type": "code",
   "execution_count": null,
   "metadata": {},
   "outputs": [],
   "source": [
    "data = [\n",
    "    {'position': (2, 3), 'speed': 0},\n",
    "    {'position': (4, 5)},\n",
    "    {'position': 'closed', 'time': 5},\n",
    "]\n",
    "s = AsdfSpline(data)\n",
    "plot_2d(s)"
   ]
  },
  {
   "cell_type": "code",
   "execution_count": null,
   "metadata": {},
   "outputs": [],
   "source": [
    "data = [\n",
    "    {'position': (2, 3)},\n",
    "    {'position': (4, 5)},\n",
    "    {'position': (3, 6)},\n",
    "    {'position': 'closed', 'time': 5}\n",
    "]\n",
    "s = AsdfSpline(data)\n",
    "plot_2d(s)"
   ]
  },
  {
   "cell_type": "markdown",
   "metadata": {},
   "source": [
    "Use `%matplotlib` to open plots in a separate window:"
   ]
  },
  {
   "cell_type": "code",
   "execution_count": null,
   "metadata": {},
   "outputs": [],
   "source": [
    "#%matplotlib"
   ]
  },
  {
   "cell_type": "code",
   "execution_count": null,
   "metadata": {},
   "outputs": [],
   "source": [
    "from asdfspline import AsdfSpline"
   ]
  },
  {
   "cell_type": "code",
   "execution_count": null,
   "metadata": {},
   "outputs": [],
   "source": [
    "from utilities import plot_3d"
   ]
  },
  {
   "cell_type": "code",
   "execution_count": null,
   "metadata": {},
   "outputs": [],
   "source": [
    "data = [\n",
    "    {'position': (0, 0, 0)},\n",
    "    {'position': (3, 0, 0.5)},\n",
    "    {'position': (3, 1, 0)},\n",
    "    {'position': 'closed', 'time': 10},\n",
    "]\n",
    "s = AsdfSpline(data)\n",
    "plot_3d(s)"
   ]
  },
  {
   "cell_type": "code",
   "execution_count": null,
   "metadata": {},
   "outputs": [],
   "source": [
    "data = [\n",
    "    {'position': (0, 0, 0), 'tension': 0.5},\n",
    "    {'position': (3, 0, 0.5), 'tension': 0.5},\n",
    "    {'position': (3, 1, 0), 'tension': 0.5},\n",
    "    {'position': 'closed', 'time': 10},\n",
    "]\n",
    "s = AsdfSpline(data)\n",
    "plot_3d(s)"
   ]
  },
  {
   "cell_type": "code",
   "execution_count": null,
   "metadata": {},
   "outputs": [],
   "source": []
  }
 ],
 "metadata": {
  "kernelspec": {
   "display_name": "Python 3",
   "language": "python",
   "name": "python3"
  },
  "language_info": {
   "codemirror_mode": {
    "name": "ipython",
    "version": 3
   },
   "file_extension": ".py",
   "mimetype": "text/x-python",
   "name": "python",
   "nbconvert_exporter": "python",
   "pygments_lexer": "ipython3",
   "version": "3.7.4"
  }
 },
 "nbformat": 4,
 "nbformat_minor": 4
}
