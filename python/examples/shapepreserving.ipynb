{
 "cells": [
  {
   "cell_type": "markdown",
   "metadata": {},
   "source": [
    "# Shape-preserving Cubic Spline"
   ]
  },
  {
   "cell_type": "code",
   "execution_count": null,
   "metadata": {},
   "outputs": [],
   "source": [
    "from asdfspline import ShapePreservingCubicSpline"
   ]
  },
  {
   "cell_type": "code",
   "execution_count": null,
   "metadata": {},
   "outputs": [],
   "source": [
    "from utilities import plot_1d"
   ]
  },
  {
   "cell_type": "code",
   "execution_count": null,
   "metadata": {},
   "outputs": [],
   "source": [
    "s = ShapePreservingCubicSpline([2, 5, 3], slopes=[0, 0, None], closed=True)\n",
    "plot_1d(s)"
   ]
  },
  {
   "cell_type": "code",
   "execution_count": null,
   "metadata": {},
   "outputs": [],
   "source": [
    "s = ShapePreservingCubicSpline([2, 5, 3], slopes=[0, 0, 0], closed=True)\n",
    "plot_1d(s)"
   ]
  },
  {
   "cell_type": "code",
   "execution_count": null,
   "metadata": {},
   "outputs": [],
   "source": [
    "s = ShapePreservingCubicSpline([2, 5, 3], closed=True)\n",
    "plot_1d(s)"
   ]
  },
  {
   "cell_type": "code",
   "execution_count": null,
   "metadata": {},
   "outputs": [],
   "source": [
    "s = ShapePreservingCubicSpline([2, 5, 3])\n",
    "plot_1d(s)"
   ]
  },
  {
   "cell_type": "code",
   "execution_count": null,
   "metadata": {},
   "outputs": [],
   "source": [
    "s = ShapePreservingCubicSpline([2, 5, 3, 2])\n",
    "plot_1d(s)"
   ]
  },
  {
   "cell_type": "code",
   "execution_count": null,
   "metadata": {},
   "outputs": [],
   "source": [
    "s = ShapePreservingCubicSpline(\n",
    "    [0, 1, 3, 4, 7],\n",
    "    grid=[0, 2, 4, 6, 8],\n",
    ")\n",
    "plot_1d(s)"
   ]
  },
  {
   "cell_type": "code",
   "execution_count": null,
   "metadata": {},
   "outputs": [],
   "source": [
    "s = ShapePreservingCubicSpline(\n",
    "    [0, 1, 3, 3, 7],\n",
    "    grid=[0, 2, 4, 16, 18],\n",
    ")\n",
    "plot_1d(s)"
   ]
  },
  {
   "cell_type": "code",
   "execution_count": null,
   "metadata": {},
   "outputs": [],
   "source": [
    "s = ShapePreservingCubicSpline(\n",
    "    [0, 1, 3, 4, 7],\n",
    "    slopes=[None, 0, None, 1.5, 0],\n",
    "    grid=[0, 2, 4, 6, 8],\n",
    ")\n",
    "plot_1d(s)"
   ]
  },
  {
   "cell_type": "code",
   "execution_count": null,
   "metadata": {},
   "outputs": [],
   "source": [
    "s = ShapePreservingCubicSpline(\n",
    "    [0, 1, 3, 4, 7],\n",
    "    slopes=[None, 0, None, None, 0],\n",
    "    grid=[0, 2, 4, 6, 8],\n",
    ")\n",
    "plot_1d(s)"
   ]
  },
  {
   "cell_type": "code",
   "execution_count": null,
   "metadata": {},
   "outputs": [],
   "source": [
    "s = ShapePreservingCubicSpline(\n",
    "    [0, 6],\n",
    "    slopes=[9, None],\n",
    "    grid=[0, 2],\n",
    ")\n",
    "plot_1d(s)"
   ]
  },
  {
   "cell_type": "code",
   "execution_count": null,
   "metadata": {},
   "outputs": [],
   "source": [
    "s = ShapePreservingCubicSpline(\n",
    "    [0, 6],\n",
    "    slopes=[None, 1],\n",
    "    grid=[0, 2],\n",
    ")\n",
    "plot_1d(s)"
   ]
  },
  {
   "cell_type": "code",
   "execution_count": null,
   "metadata": {},
   "outputs": [],
   "source": []
  }
 ],
 "metadata": {
  "kernelspec": {
   "display_name": "Python 3",
   "language": "python",
   "name": "python3"
  },
  "language_info": {
   "codemirror_mode": {
    "name": "ipython",
    "version": 3
   },
   "file_extension": ".py",
   "mimetype": "text/x-python",
   "name": "python",
   "nbconvert_exporter": "python",
   "pygments_lexer": "ipython3",
   "version": "3.7.4"
  }
 },
 "nbformat": 4,
 "nbformat_minor": 4
}
