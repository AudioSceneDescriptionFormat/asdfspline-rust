{
 "cells": [
  {
   "attachments": {},
   "cell_type": "markdown",
   "id": "5a7c9594-e30b-4bcf-a0d3-ee00daf5a6ad",
   "metadata": {},
   "source": [
    "# Turenas Trajectory\n",
    "\n",
    "This notebook reproduces the trajectory of John Chowning's composition \"Turenas\" (1972),\n",
    "as described in:\n",
    "\n",
    "Chowning, J.M. (2011) ‘Turenas: the realization of a dream’, in 17es Journées d’Informatique Musicale, Saint-Etienne, France. Available at: https://hal.science/hal-03104721/document.\n",
    "\n",
    "The paper provides these equations:\n",
    "\n",
    "\\begin{align*}\n",
    "x &= \\sin 2 \\pi t + \\sin 6 \\pi t\\\\\n",
    "y &= \\cos 3 \\pi t + \\cos 7 \\pi t\n",
    "\\end{align*}"
   ]
  },
  {
   "cell_type": "code",
   "execution_count": null,
   "id": "cbe42ff8-71d5-4c36-97b2-12bada03d13a",
   "metadata": {},
   "outputs": [],
   "source": [
    "from asdfspline import AsdfSpline"
   ]
  },
  {
   "cell_type": "code",
   "execution_count": null,
   "id": "140f9037-854c-4ade-b975-d6753c07b51d",
   "metadata": {},
   "outputs": [],
   "source": [
    "from utilities import plot_2d"
   ]
  },
  {
   "cell_type": "code",
   "execution_count": null,
   "id": "b60daf89-32a7-42d8-93ca-e3418ffadc07",
   "metadata": {},
   "outputs": [],
   "source": [
    "import numpy as np\n",
    "import matplotlib.pyplot as plt\n",
    "from matplotlib.patches import Rectangle"
   ]
  },
  {
   "cell_type": "markdown",
   "id": "e1109414-d1b6-41ae-a3dc-58c08addd103",
   "metadata": {},
   "source": [
    "For comparison, we directly implement the equations given by Chowning:"
   ]
  },
  {
   "cell_type": "code",
   "execution_count": null,
   "id": "fd933cb0-838c-4903-a6ee-a343ead5842e",
   "metadata": {},
   "outputs": [],
   "source": [
    "class Turenas:\n",
    "    \n",
    "    grid = [0, 1]\n",
    "    \n",
    "    def evaluate(self, t):\n",
    "        if not np.isscalar(t):\n",
    "            return np.array([self.evaluate(t) for t in t])\n",
    "        # The plot in Chowning's 2011 paper is multiplied by 2\n",
    "        # and offset by +1 in the y-direction:\n",
    "        return 2 * np.array([\n",
    "            np.sin(2 * np.pi * t) + np.sin(6 * np.pi * t),\n",
    "            np.cos(3 * np.pi * t) + np.cos(7 * np.pi * t)\n",
    "        ]) + [0, 1]"
   ]
  },
  {
   "cell_type": "code",
   "execution_count": null,
   "id": "c3fbef84-23f6-4d6c-85d3-786353620a4a",
   "metadata": {},
   "outputs": [],
   "source": [
    "fig, ax = plt.subplots()\n",
    "plot_2d(Turenas(), dots_per_second=150, ax=ax)\n",
    "ax.add_patch(Rectangle((-1, -1), 2, 2, edgecolor='black', facecolor='none'));"
   ]
  },
  {
   "cell_type": "markdown",
   "id": "2c0cd1d8-ff87-4109-a393-0afd45cc5b08",
   "metadata": {},
   "source": [
    "Now we try to approximate this with ASDF splines:"
   ]
  },
  {
   "cell_type": "code",
   "execution_count": null,
   "id": "4892169e-292f-491a-a55d-71280e837b4f",
   "metadata": {},
   "outputs": [],
   "source": [
    "x1 = AsdfSpline([\n",
    "    {'position': (0, 0), 'speed': 2 * np.pi, 'time': 0},\n",
    "    {'position': (1, 0), 'speed': 0, 'time': 1/4},\n",
    "    {'position': (-1, 0), 'speed': 0, 'time': 3/4},\n",
    "    {'position': 'closed', 'time': 1},\n",
    "])\n",
    "x2 = AsdfSpline([\n",
    "    {'position': (0, 0), 'speed': 6 * np.pi, 'time': 0},\n",
    "    {'position': (1, 0), 'speed': 0, 'time': 1/12},\n",
    "    {'position': (-1, 0), 'speed': 0, 'time': 3/12},\n",
    "    {'position': (1, 0), 'speed': 0, 'time': 5/12},\n",
    "    {'position': (-1, 0), 'speed': 0, 'time': 7/12},\n",
    "    {'position': (1, 0), 'speed': 0, 'time': 9/12},\n",
    "    {'position': (-1, 0), 'speed': 0, 'time': 11/12},\n",
    "    {'position': 'closed', 'time': 1},\n",
    "])\n",
    "y1 = AsdfSpline([\n",
    "    {'position': (0, 1), 'speed': 0, 'time': 0},\n",
    "    {'position': (0, -1), 'speed': 0, 'time': 1/3},\n",
    "    {'position': (0, 1), 'speed': 0, 'time': 2/3},\n",
    "    {'position': (0, -1), 'speed': 0, 'time': 1},\n",
    "])\n",
    "y2 = AsdfSpline([\n",
    "    {'position': (0, 1), 'speed': 0, 'time': 0},\n",
    "    {'position': (0, -1), 'speed': 0, 'time': 1/7},\n",
    "    {'position': (0, 1), 'speed': 0, 'time': 2/7},\n",
    "    {'position': (0, -1), 'speed': 0, 'time': 3/7},\n",
    "    {'position': (0, 1), 'speed': 0, 'time': 4/7},\n",
    "    {'position': (0, -1), 'speed': 0, 'time': 5/7},\n",
    "    {'position': (0, 1), 'speed': 0, 'time': 6/7},\n",
    "    {'position': (0, -1), 'speed': 0, 'time': 1},\n",
    "])"
   ]
  },
  {
   "cell_type": "code",
   "execution_count": null,
   "id": "28c0ed39-0120-4e3a-a80a-09bd1079b9b0",
   "metadata": {},
   "outputs": [],
   "source": [
    "class TurenasAsdf:\n",
    "    \n",
    "    grid = [0, 1]\n",
    "    \n",
    "    def evaluate(self, t):\n",
    "        return 2 * (\n",
    "            x1.evaluate(t) + x2.evaluate(t) + y1.evaluate(t) + y2.evaluate(t)\n",
    "        ) + [0, 1, 0]"
   ]
  },
  {
   "cell_type": "code",
   "execution_count": null,
   "id": "9a494a27-f2b1-41bf-905d-320798b25ac5",
   "metadata": {},
   "outputs": [],
   "source": [
    "fig, ax = plt.subplots()\n",
    "plot_2d(TurenasAsdf(), dots_per_second=150, ax=ax)\n",
    "ax.add_patch(Rectangle((-1, -1), 2, 2, edgecolor='black', facecolor='none'));"
   ]
  }
 ],
 "metadata": {
  "kernelspec": {
   "display_name": "Python 3 (ipykernel)",
   "language": "python",
   "name": "python3"
  },
  "language_info": {
   "codemirror_mode": {
    "name": "ipython",
    "version": 3
   },
   "file_extension": ".py",
   "mimetype": "text/x-python",
   "name": "python",
   "nbconvert_exporter": "python",
   "pygments_lexer": "ipython3",
   "version": "3.11.7"
  }
 },
 "nbformat": 4,
 "nbformat_minor": 5
}
